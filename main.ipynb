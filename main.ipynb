{
 "cells": [
  {
   "cell_type": "code",
   "execution_count": 1,
   "metadata": {},
   "outputs": [],
   "source": [
    "# import web driver\n",
    "from selenium import webdriver\n",
    "\n",
    "# create ChromeOptions object\n",
    "chrome_options = webdriver.ChromeOptions()\n",
    "\n",
    "# specifies the path to the chromedriver.exe\n",
    "driver = webdriver.Chrome(options=chrome_options)\n",
    "\n",
    "# driver.get method() will navigate to a page given by the URL address\n",
    "driver.get('http://www.linkedin.com')\n"
   ]
  },
  {
   "cell_type": "code",
   "execution_count": 2,
   "metadata": {},
   "outputs": [],
   "source": [
    "from selenium.webdriver.common.by import By\n",
    "from dotenv import load_dotenv\n",
    "import os\n",
    "\n",
    "load_dotenv()\n",
    "\n",
    "linkedin_password = os.getenv('linkedin_pw')\n",
    "linkedin_username = os.getenv('linkedin_uid')\n",
    "\n",
    "# locate email input field by id\n",
    "email_input = driver.find_element(By.ID, 'session_key')\n",
    "\n",
    "# send_keys() to simulate key strokes\n",
    "email_input.send_keys(linkedin_username)\n",
    "\n",
    "# locate password input field by id\n",
    "password_input = driver.find_element(By.ID, 'session_password')\n",
    "\n",
    "# send_keys() to simulate key strokes\n",
    "password_input.send_keys(linkedin_password)"
   ]
  },
  {
   "cell_type": "code",
   "execution_count": 3,
   "metadata": {},
   "outputs": [],
   "source": [
    "from selenium.webdriver.common.by import By\n",
    "\n",
    "# Locate submit button by class name\n",
    "log_in_button = driver.find_element(By.CLASS_NAME, 'sign-in-form__submit-btn--full-width')\n",
    "\n",
    "# Click the button\n",
    "log_in_button.click()\n"
   ]
  },
  {
   "cell_type": "code",
   "execution_count": 4,
   "metadata": {},
   "outputs": [],
   "source": [
    "from selenium.webdriver.common.by import By\n",
    "\n",
    "# Locate the search button by class name\n",
    "search_button = driver.find_element(By.CLASS_NAME, 'search-global-typeahead__collapsed-search-button')\n",
    "\n",
    "# Click the button\n",
    "search_button.click()\n"
   ]
  },
  {
   "cell_type": "code",
   "execution_count": 5,
   "metadata": {},
   "outputs": [],
   "source": [
    "from selenium.webdriver.common.by import By\n",
    "from selenium.webdriver.common.keys import Keys\n",
    "\n",
    "# Locate the search input field by class name\n",
    "search_input = driver.find_element(By.CLASS_NAME, 'search-global-typeahead__input')\n",
    "\n",
    "# Clear any existing text in the search input\n",
    "search_input.clear()\n",
    "\n",
    "# Send the search query \"Software Developer\"\n",
    "search_input.send_keys('Software Developer')\n",
    "\n",
    "# Submit the search form by pressing Enter\n",
    "search_input.send_keys(Keys.RETURN)\n"
   ]
  },
  {
   "cell_type": "code",
   "execution_count": 6,
   "metadata": {},
   "outputs": [],
   "source": [
    "from selenium.webdriver.common.by import By\n",
    "from selenium.webdriver.support.ui import WebDriverWait\n",
    "from selenium.webdriver.support import expected_conditions as EC\n",
    "\n",
    "# Wait for the button with the text \"People\" to be present\n",
    "button = WebDriverWait(driver, 10).until(\n",
    "    EC.presence_of_element_located((By.XPATH, '//button[text()=\"People\"]'))\n",
    ")\n",
    "\n",
    "# Click the button\n",
    "button.click()\n"
   ]
  },
  {
   "cell_type": "code",
   "execution_count": 7,
   "metadata": {},
   "outputs": [],
   "source": [
    "# Assuming you have already navigated to LinkedIn, logged in, and performed the search\n",
    "import csv\n",
    "from selenium.common.exceptions import StaleElementReferenceException\n",
    "from bs4 import BeautifulSoup\n",
    "# Wait for the search results to be present\n",
    "search_results = WebDriverWait(driver, 10).until(\n",
    "    EC.presence_of_all_elements_located((By.XPATH, '//li[@class=\"reusable-search__result-container\"]'))\n",
    ")\n",
    "\n",
    "profile_links = []\n",
    "\n",
    "html_page = driver.page_source\n",
    "\n",
    "soup = BeautifulSoup(html_page, 'html.parser')\n",
    "\n",
    "# Find all <a> tags with class 'app-aware-link'\n",
    "span_tags = soup.find_all('span', class_='entity-result__title-text t-16')\n",
    "\n",
    "# Extract href links from <a> tags within <span> tags\n",
    "for span_tag in span_tags:\n",
    "    # Find <a> tags with class 'app-aware-link' within the current <span> tag\n",
    "    app_aware_links = span_tag.find_all('a', class_='app-aware-link')\n",
    "\n",
    "    # Extract href links from the found <a> tags\n",
    "    href_links = [link.get('href') for link in app_aware_links]\n",
    "\n",
    "    # Print the extracted href links\n",
    "    for href_link in href_links:\n",
    "        profile_links.append(href_link)"
   ]
  },
  {
   "cell_type": "code",
   "execution_count": 8,
   "metadata": {},
   "outputs": [
    {
     "name": "stdout",
     "output_type": "stream",
     "text": [
      "Name: Vaibhav Chavan Position: Software Developer Link: https://www.linkedin.com/in/vaibhav-chavan-16783a101/details/skills?profileUrn=urn%3Ali%3Afsd_profile%3AACoAABnuJ18BBNIr_7vrjvha2FvgjQP2C_mw_2A\n",
      "Name: Rajat Majoka Position: You both studied at Indian Institute of Technology, Bombay Link: https://www.linkedin.com/in/rajat-majoka-30a63a151/details/interests?profileUrn=urn%3Ali%3Afsd_profile%3AACoAACSUUDoBM12GjPMqxUnXJEzHLoLi-ra9IhQ&tabIndex=0&detailScreenTabIndex=0\n"
     ]
    },
    {
     "ename": "AttributeError",
     "evalue": "'NoneType' object has no attribute 'get'",
     "output_type": "error",
     "traceback": [
      "\u001b[1;31m---------------------------------------------------------------------------\u001b[0m",
      "\u001b[1;31mAttributeError\u001b[0m                            Traceback (most recent call last)",
      "Cell \u001b[1;32mIn[8], line 22\u001b[0m\n\u001b[0;32m     20\u001b[0m name \u001b[38;5;241m=\u001b[39m soup\u001b[38;5;241m.\u001b[39mfind(\u001b[38;5;124m'\u001b[39m\u001b[38;5;124mh1\u001b[39m\u001b[38;5;124m'\u001b[39m, class_\u001b[38;5;241m=\u001b[39m\u001b[38;5;124m'\u001b[39m\u001b[38;5;124mtext-heading-xlarge inline t-24 v-align-middle break-words\u001b[39m\u001b[38;5;124m'\u001b[39m)\u001b[38;5;241m.\u001b[39mtext\n\u001b[0;32m     21\u001b[0m position \u001b[38;5;241m=\u001b[39m soup\u001b[38;5;241m.\u001b[39mfind(\u001b[38;5;124m'\u001b[39m\u001b[38;5;124mul\u001b[39m\u001b[38;5;124m'\u001b[39m, class_\u001b[38;5;241m=\u001b[39m\u001b[38;5;124m'\u001b[39m\u001b[38;5;124mpvs-list\u001b[39m\u001b[38;5;124m'\u001b[39m)\u001b[38;5;241m.\u001b[39mfind(\u001b[38;5;124m'\u001b[39m\u001b[38;5;124mli\u001b[39m\u001b[38;5;124m'\u001b[39m)\u001b[38;5;241m.\u001b[39mfind(\u001b[38;5;124m'\u001b[39m\u001b[38;5;124mspan\u001b[39m\u001b[38;5;124m'\u001b[39m)\u001b[38;5;241m.\u001b[39mtext\n\u001b[1;32m---> 22\u001b[0m skill_link \u001b[38;5;241m=\u001b[39m \u001b[43msoup\u001b[49m\u001b[38;5;241;43m.\u001b[39;49m\u001b[43mfind\u001b[49m\u001b[43m(\u001b[49m\u001b[38;5;124;43m'\u001b[39;49m\u001b[38;5;124;43ma\u001b[39;49m\u001b[38;5;124;43m'\u001b[39;49m\u001b[43m,\u001b[49m\u001b[43m \u001b[49m\u001b[43mclass_\u001b[49m\u001b[38;5;241;43m=\u001b[39;49m\u001b[38;5;124;43m\"\u001b[39;49m\u001b[38;5;124;43moptional-action-target-wrapper artdeco-button artdeco-button--tertiary artdeco-button--standard artdeco-button--2 artdeco-button--muted inline-flex justify-center full-width align-items-center artdeco-button--fluid\u001b[39;49m\u001b[38;5;124;43m\"\u001b[39;49m\u001b[43m)\u001b[49m\u001b[38;5;241;43m.\u001b[39;49m\u001b[43mget\u001b[49m(\u001b[38;5;124m'\u001b[39m\u001b[38;5;124mhref\u001b[39m\u001b[38;5;124m'\u001b[39m)\n\u001b[0;32m     24\u001b[0m \u001b[38;5;28mprint\u001b[39m(\u001b[38;5;124m\"\u001b[39m\u001b[38;5;124mName:\u001b[39m\u001b[38;5;124m\"\u001b[39m, name, \u001b[38;5;124m\"\u001b[39m\u001b[38;5;124mPosition:\u001b[39m\u001b[38;5;124m\"\u001b[39m, position, \u001b[38;5;124m\"\u001b[39m\u001b[38;5;124mLink:\u001b[39m\u001b[38;5;124m\"\u001b[39m, skill_link)\n\u001b[0;32m     26\u001b[0m driver\u001b[38;5;241m.\u001b[39mget(skill_link)\n",
      "\u001b[1;31mAttributeError\u001b[0m: 'NoneType' object has no attribute 'get'"
     ]
    }
   ],
   "source": [
    "import pandas as pd\n",
    "\n",
    "final_df = pd.DataFrame(columns=['Name', 'Position', 'Skills', 'Linked_URL'])\n",
    "\n",
    "for person_link in profile_links:\n",
    "    driver.get(person_link)\n",
    "    \n",
    "    # Wait for the presence of the header container and list elements\n",
    "    wait = WebDriverWait(driver, 20)\n",
    "    header_present = wait.until(EC.presence_of_element_located((By.CLASS_NAME, 'pvs-header__left-container--stack')))\n",
    "    list_present = wait.until(EC.presence_of_element_located((By.CLASS_NAME, 'pvs-list')))\n",
    "    \n",
    "    # Get the page source after waiting for elements\n",
    "    html_page = driver.page_source\n",
    "    \n",
    "    # Parse the HTML using BeautifulSoup\n",
    "    soup = BeautifulSoup(html_page, 'html.parser')\n",
    "    \n",
    "    # Extract data from the parsed HTML\n",
    "    name = soup.find('h1', class_='text-heading-xlarge inline t-24 v-align-middle break-words').text\n",
    "    position = soup.find('ul', class_='pvs-list').find('li').find('span').text\n",
    "    skill_link = soup.find('a', class_=\"optional-action-target-wrapper artdeco-button artdeco-button--tertiary artdeco-button--standard artdeco-button--2 artdeco-button--muted inline-flex justify-center full-width align-items-center artdeco-button--fluid\").get('href')\n",
    "    \n",
    "    print(\"Name:\", name, \"Position:\", position, \"Link:\", skill_link)\n",
    "\n",
    "    driver.get(skill_link)\n",
    "    wait = WebDriverWait(driver, 15)\n",
    "    element_present = wait.until(EC.presence_of_element_located((By.CLASS_NAME, 'scaffold-layout__main')))\n",
    "    html = driver.page_source\n",
    "    soup = BeautifulSoup(html, 'html.parser')\n",
    "    skills = []\n",
    "    skills_list = soup.find('ul', class_='pvs-list')\n",
    "    if skills_list:\n",
    "        skill_items = skills_list.find_all('li', class_='pvs-list__item--one-column')\n",
    "        \n",
    "        for skill_item in skill_items:\n",
    "            # Extract skill name\n",
    "            skill_name = skill_item.find('span', class_='t-bold').get_text(strip=True)\n",
    "            skills.append(skill_name)\n",
    "            \n",
    "            # Extract skill link\n",
    "            skill_link = skill_item.find('a', class_='optional-action-target-wrapper')['href']\n",
    "            \n",
    "            # Print or store the extracted information\n",
    "            print(\"Skill:\", skill_name)\n",
    "            print(\"Skill Link:\", skill_link)\n",
    "            print(\"------\")\n",
    "\n",
    "    # df = pd.DataFrame({'Name': name, 'Position': position, 'Skills': [skills], 'Linked_URL' : person_link})\n",
    "    # final_df = pd.concat([final_df, df], ignore_index=True)"
   ]
  },
  {
   "cell_type": "code",
   "execution_count": null,
   "metadata": {},
   "outputs": [],
   "source": [
    "# import psycopg2\n",
    "# import os\n",
    "# from dotenv import load_dotenv\n",
    "\n",
    "# load_dotenv()\n",
    "\n",
    "# conn = psycopg2.connect(\n",
    "#     dbname=os.getenv('db_name'),\n",
    "#     user=os.getenv('db_user'),\n",
    "#     password=os.getenv('db_password'),\n",
    "#     host=os.getenv('db_host'),\n",
    "#     port=os.getenv('db_port')\n",
    "# )\n",
    "\n",
    "# cursor = conn.cursor()\n",
    "\n",
    "# cursor.execute(\"\"\"\n",
    "#             INSERT INTO your_table_name (name, current_position, skills, linkedin_url)\n",
    "#             VALUES (%s, %s, %s, %s)\n",
    "#         \"\"\", (name, position, skills, link))\n",
    "\n",
    "# conn.commit()\n",
    "# cursor.close()\n",
    "# conn.close()"
   ]
  }
 ],
 "metadata": {
  "kernelspec": {
   "display_name": "venv",
   "language": "python",
   "name": "python3"
  },
  "language_info": {
   "codemirror_mode": {
    "name": "ipython",
    "version": 3
   },
   "file_extension": ".py",
   "mimetype": "text/x-python",
   "name": "python",
   "nbconvert_exporter": "python",
   "pygments_lexer": "ipython3",
   "version": "3.10.11"
  }
 },
 "nbformat": 4,
 "nbformat_minor": 2
}
