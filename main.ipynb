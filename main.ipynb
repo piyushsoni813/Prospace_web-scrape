{
 "cells": [
  {
   "cell_type": "code",
   "execution_count": 9,
   "metadata": {},
   "outputs": [],
   "source": [
    "# import web driver\n",
    "from selenium import webdriver\n",
    "\n",
    "# create ChromeOptions object\n",
    "chrome_options = webdriver.ChromeOptions()\n",
    "\n",
    "# specifies the path to the chromedriver.exe\n",
    "driver = webdriver.Chrome(options=chrome_options)\n",
    "\n",
    "# driver.get method() will navigate to a page given by the URL address\n",
    "driver.get('http://www.linkedin.com')\n"
   ]
  },
  {
   "cell_type": "code",
   "execution_count": 10,
   "metadata": {},
   "outputs": [],
   "source": [
    "from selenium.webdriver.common.by import By\n",
    "from dotenv import load_dotenv\n",
    "import os\n",
    "\n",
    "load_dotenv()\n",
    "\n",
    "linkedin_password = os.getenv('linkedin_pw')\n",
    "linkedin_username = os.getenv('linkedin_uid')\n",
    "\n",
    "# locate email input field by id\n",
    "email_input = driver.find_element(By.ID, 'session_key')\n",
    "\n",
    "# send_keys() to simulate key strokes\n",
    "email_input.send_keys(linkedin_username)\n",
    "\n",
    "# locate password input field by id\n",
    "password_input = driver.find_element(By.ID, 'session_password')\n",
    "\n",
    "# send_keys() to simulate key strokes\n",
    "password_input.send_keys(linkedin_password)"
   ]
  },
  {
   "cell_type": "code",
   "execution_count": 11,
   "metadata": {},
   "outputs": [],
   "source": [
    "from selenium.webdriver.common.by import By\n",
    "\n",
    "# Locate submit button by class name\n",
    "log_in_button = driver.find_element(By.CLASS_NAME, 'sign-in-form__submit-btn--full-width')\n",
    "\n",
    "# Click the button\n",
    "log_in_button.click()\n"
   ]
  },
  {
   "cell_type": "code",
   "execution_count": 12,
   "metadata": {},
   "outputs": [],
   "source": [
    "from selenium.webdriver.common.by import By\n",
    "\n",
    "# Locate the search button by class name\n",
    "search_button = driver.find_element(By.CLASS_NAME, 'search-global-typeahead__collapsed-search-button')\n",
    "\n",
    "# Click the button\n",
    "search_button.click()\n"
   ]
  },
  {
   "cell_type": "code",
   "execution_count": 13,
   "metadata": {},
   "outputs": [],
   "source": [
    "from selenium.webdriver.common.by import By\n",
    "from selenium.webdriver.common.keys import Keys\n",
    "\n",
    "# Locate the search input field by class name\n",
    "search_input = driver.find_element(By.CLASS_NAME, 'search-global-typeahead__input')\n",
    "\n",
    "# Clear any existing text in the search input\n",
    "search_input.clear()\n",
    "\n",
    "# Send the search query \"Software Developer\"\n",
    "search_input.send_keys('Software Developer')\n",
    "\n",
    "# Submit the search form by pressing Enter\n",
    "search_input.send_keys(Keys.RETURN)\n"
   ]
  },
  {
   "cell_type": "code",
   "execution_count": 14,
   "metadata": {},
   "outputs": [],
   "source": [
    "from selenium.webdriver.common.by import By\n",
    "from selenium.webdriver.support.ui import WebDriverWait\n",
    "from selenium.webdriver.support import expected_conditions as EC\n",
    "\n",
    "# Wait for the button with the text \"People\" to be present\n",
    "button = WebDriverWait(driver, 10).until(\n",
    "    EC.presence_of_element_located((By.XPATH, '//button[text()=\"People\"]'))\n",
    ")\n",
    "\n",
    "# Click the button\n",
    "button.click()\n"
   ]
  },
  {
   "cell_type": "code",
   "execution_count": 15,
   "metadata": {},
   "outputs": [],
   "source": [
    "# Assuming you have already navigated to LinkedIn, logged in, and performed the search\n",
    "import csv\n",
    "from selenium.common.exceptions import StaleElementReferenceException\n",
    "from bs4 import BeautifulSoup\n",
    "# Wait for the search results to be present\n",
    "search_results = WebDriverWait(driver, 10).until(\n",
    "    EC.presence_of_all_elements_located((By.XPATH, '//li[@class=\"reusable-search__result-container\"]'))\n",
    ")\n",
    "\n",
    "profile_links = []\n",
    "\n",
    "html_page = driver.page_source\n",
    "\n",
    "soup = BeautifulSoup(html_page, 'html.parser')\n",
    "\n",
    "# Find all <a> tags with class 'app-aware-link'\n",
    "span_tags = soup.find_all('span', class_='entity-result__title-text t-16')\n",
    "\n",
    "# Extract href links from <a> tags within <span> tags\n",
    "for span_tag in span_tags:\n",
    "    # Find <a> tags with class 'app-aware-link' within the current <span> tag\n",
    "    app_aware_links = span_tag.find_all('a', class_='app-aware-link')\n",
    "\n",
    "    # Extract href links from the found <a> tags\n",
    "    href_links = [link.get('href') for link in app_aware_links]\n",
    "\n",
    "    # Print the extracted href links\n",
    "    for href_link in href_links:\n",
    "        profile_links.append(href_link)"
   ]
  },
  {
   "cell_type": "code",
   "execution_count": 16,
   "metadata": {},
   "outputs": [
    {
     "name": "stdout",
     "output_type": "stream",
     "text": [
      "Name: Vaibhav Chavan Position: Software Developer Link: https://www.linkedin.com/in/vaibhav-chavan-16783a101/details/skills?profileUrn=urn%3Ali%3Afsd_profile%3AACoAABnuJ18BBNIr_7vrjvha2FvgjQP2C_mw_2A\n",
      "Name: Rajat Majoka Position: You both studied at Indian Institute of Technology, Bombay Link: https://www.linkedin.com/in/rajat-majoka-30a63a151/details/interests?profileUrn=urn%3Ali%3Afsd_profile%3AACoAACSUUDoBM12GjPMqxUnXJEzHLoLi-ra9IhQ&tabIndex=0&detailScreenTabIndex=0\n",
      "Name: Deepak Verma Position: Software Developer Link: https://www.linkedin.com/in/deepak-verma-b54755147/details/skills?profileUrn=urn%3Ali%3Afsd_profile%3AACoAACOHQTAB9oUGvF-XuGG6ABKDl2cCHi2OAWY\n",
      "Name: Mahesh Kumar Saini Position: Kadam Technologies Pvt. Ltd. Link: https://www.linkedin.com/in/mahesh-kumar-saini-281418192/details/skills?profileUrn=urn%3Ali%3Afsd_profile%3AACoAAC1EmIEBDe0TbYKEvlFDrZCGG7xeA8hrle0\n",
      "Name: Muskaan Hooda Position: Software Developer Link: https://www.linkedin.com/in/muskaan-hooda-760759195/details/interests?profileUrn=urn%3Ali%3Afsd_profile%3AACoAAC3Z-fgBgduhnAfg51aIIV_4juJRGsEzmeU&tabIndex=0&detailScreenTabIndex=0\n",
      "Name: Tushar Pandey Position: Top skills Link: https://www.linkedin.com/in/tushar-pandey-482405228/details/certifications?profileUrn=urn%3Ali%3Afsd_profile%3AACoAADkDVGIB91mDKrAVfPIcdLnOs2gbtHgXCd8\n",
      "Name: Satish Kumar Singh Position: Top skills Link: https://www.linkedin.com/in/srpsatish/details/education?profileUrn=urn%3Ali%3Afsd_profile%3AACoAACqJJg4BSdW17kojtiUp8eC9SJRZwyMjYig\n",
      "Name: Nayan Jyoti Das Position: You both studied at Indian Institute of Technology, Bombay Link: https://www.linkedin.com/in/njd7/details/skills?profileUrn=urn%3Ali%3Afsd_profile%3AACoAAEeKRy4B1bs6zVdOAibd_yh-KxYGovs2IQc\n",
      "Name: Yukta Khadakban Position: Burns & McDonnell India Link: https://www.linkedin.com/in/yuktakhadakban/details/certifications?profileUrn=urn%3Ali%3Afsd_profile%3AACoAACruotkB-itxc_-FVOl5QFxsY42NxLTq7OI\n",
      "Name: Ayush Sharma Position: Software Engineer Intern Link: https://www.linkedin.com/in/ayush-sharma-b35b09274/details/certifications?profileUrn=urn%3Ali%3Afsd_profile%3AACoAAEMVhxkBYtuCrACloiVmaH49noudXMMkyMQ\n"
     ]
    }
   ],
   "source": [
    "import pandas as pd\n",
    "\n",
    "final_df = pd.DataFrame(columns=['Name', 'Position', 'Skills', 'Linked_URL'])\n",
    "\n",
    "for person_link in profile_links:\n",
    "    driver.get(person_link)\n",
    "    \n",
    "    # Wait for the presence of the header container and list elements\n",
    "    wait = WebDriverWait(driver, 20)\n",
    "    header_present = wait.until(EC.presence_of_element_located((By.CLASS_NAME, 'pvs-header__left-container--stack')))\n",
    "    list_present = wait.until(EC.presence_of_element_located((By.CLASS_NAME, 'pvs-list')))\n",
    "    \n",
    "    # Get the page source after waiting for elements\n",
    "    html_page = driver.page_source\n",
    "    \n",
    "    # Parse the HTML using BeautifulSoup\n",
    "    soup = BeautifulSoup(html_page, 'html.parser')\n",
    "    \n",
    "    # Extract data from the parsed HTML\n",
    "    name = soup.find('h1', class_='text-heading-xlarge inline t-24 v-align-middle break-words').text\n",
    "    position = soup.find('ul', class_='pvs-list').find('li').find('span').text\n",
    "    skill_link = soup.find('a', class_=\"optional-action-target-wrapper artdeco-button artdeco-button--tertiary artdeco-button--standard artdeco-button--2 artdeco-button--muted inline-flex justify-center full-width align-items-center artdeco-button--fluid\").get('href')\n",
    "    \n",
    "    print(\"Name:\", name, \"Position:\", position, \"Link:\", skill_link)\n",
    "\n",
    "    driver.get(skill_link)\n",
    "    wait = WebDriverWait(driver, 15)\n",
    "    element_present = wait.until(EC.presence_of_element_located((By.CLASS_NAME, 'scaffold-layout__main')))\n",
    "    html = driver.page_source\n",
    "    soup = BeautifulSoup(html, 'html.parser')\n",
    "    skills = []\n",
    "    skills_list = soup.find('ul', class_='pvs-list')\n",
    "    if skills_list:\n",
    "        skill_items = skills_list.find_all('li', class_='pvs-list__item--one-column')\n",
    "        \n",
    "        for skill_item in skill_items:\n",
    "            # Extract skill name\n",
    "            skill_name = skill_item.find('span', class_='t-bold').get_text(strip=True)\n",
    "            skills.append(skill_name)\n",
    "            \n",
    "            # Extract skill link\n",
    "            skill_link = skill_item.find('a', class_='optional-action-target-wrapper')['href']\n",
    "            \n",
    "            # Print or store the extracted information\n",
    "            print(\"Skill:\", skill_name)\n",
    "            print(\"Skill Link:\", skill_link)\n",
    "            print(\"------\")\n",
    "\n",
    "    df = pd.DataFrame({'Name': name, 'Position': position, 'Skills': [skills], 'Linked_URL' : person_link})\n",
    "    final_df = pd.concat([final_df, df], ignore_index=True)"
   ]
  },
  {
   "cell_type": "code",
   "execution_count": 17,
   "metadata": {},
   "outputs": [
    {
     "ename": "NameError",
     "evalue": "name 'link' is not defined",
     "output_type": "error",
     "traceback": [
      "\u001b[1;31m---------------------------------------------------------------------------\u001b[0m",
      "\u001b[1;31mNameError\u001b[0m                                 Traceback (most recent call last)",
      "Cell \u001b[1;32mIn[17], line 20\u001b[0m\n\u001b[0;32m      7\u001b[0m conn \u001b[38;5;241m=\u001b[39m psycopg2\u001b[38;5;241m.\u001b[39mconnect(\n\u001b[0;32m      8\u001b[0m     dbname\u001b[38;5;241m=\u001b[39mos\u001b[38;5;241m.\u001b[39mgetenv(\u001b[38;5;124m'\u001b[39m\u001b[38;5;124mdb_name\u001b[39m\u001b[38;5;124m'\u001b[39m),\n\u001b[0;32m      9\u001b[0m     user\u001b[38;5;241m=\u001b[39mos\u001b[38;5;241m.\u001b[39mgetenv(\u001b[38;5;124m'\u001b[39m\u001b[38;5;124mdb_user\u001b[39m\u001b[38;5;124m'\u001b[39m),\n\u001b[1;32m   (...)\u001b[0m\n\u001b[0;32m     12\u001b[0m     port\u001b[38;5;241m=\u001b[39mos\u001b[38;5;241m.\u001b[39mgetenv(\u001b[38;5;124m'\u001b[39m\u001b[38;5;124mdb_port\u001b[39m\u001b[38;5;124m'\u001b[39m)\n\u001b[0;32m     13\u001b[0m )\n\u001b[0;32m     15\u001b[0m cursor \u001b[38;5;241m=\u001b[39m conn\u001b[38;5;241m.\u001b[39mcursor()\n\u001b[0;32m     17\u001b[0m cursor\u001b[38;5;241m.\u001b[39mexecute(\u001b[38;5;124m\"\"\"\u001b[39m\n\u001b[0;32m     18\u001b[0m \u001b[38;5;124m            INSERT INTO your_table_name (name, current_position, skills, linkedin_url)\u001b[39m\n\u001b[0;32m     19\u001b[0m \u001b[38;5;124m            VALUES (\u001b[39m\u001b[38;5;132;01m%s\u001b[39;00m\u001b[38;5;124m, \u001b[39m\u001b[38;5;132;01m%s\u001b[39;00m\u001b[38;5;124m, \u001b[39m\u001b[38;5;132;01m%s\u001b[39;00m\u001b[38;5;124m, \u001b[39m\u001b[38;5;132;01m%s\u001b[39;00m\u001b[38;5;124m)\u001b[39m\n\u001b[1;32m---> 20\u001b[0m \u001b[38;5;124m        \u001b[39m\u001b[38;5;124m\"\"\"\u001b[39m, (name, position, skills, \u001b[43mlink\u001b[49m))\n\u001b[0;32m     22\u001b[0m conn\u001b[38;5;241m.\u001b[39mcommit()\n\u001b[0;32m     23\u001b[0m cursor\u001b[38;5;241m.\u001b[39mclose()\n",
      "\u001b[1;31mNameError\u001b[0m: name 'link' is not defined"
     ]
    }
   ],
   "source": [
    "import psycopg2\n",
    "import os\n",
    "from dotenv import load_dotenv\n",
    "\n",
    "load_dotenv()\n",
    "\n",
    "conn = psycopg2.connect(\n",
    "    dbname=os.getenv('db_name'),\n",
    "    user=os.getenv('db_user'),\n",
    "    password=os.getenv('db_password'),\n",
    "    host=os.getenv('db_host'),\n",
    "    port=os.getenv('db_port')\n",
    ")\n",
    "\n",
    "cursor = conn.cursor()\n",
    "\n",
    "cursor.execute(\"\"\"\n",
    "            INSERT INTO your_table_name (name, current_position, skills, linkedin_url)\n",
    "            VALUES (%s, %s, %s, %s)\n",
    "        \"\"\", (name, position, skills, link))\n",
    "\n",
    "conn.commit()\n",
    "cursor.close()\n",
    "conn.close()"
   ]
  }
 ],
 "metadata": {
  "kernelspec": {
   "display_name": "venv",
   "language": "python",
   "name": "python3"
  },
  "language_info": {
   "codemirror_mode": {
    "name": "ipython",
    "version": 3
   },
   "file_extension": ".py",
   "mimetype": "text/x-python",
   "name": "python",
   "nbconvert_exporter": "python",
   "pygments_lexer": "ipython3",
   "version": "3.10.11"
  }
 },
 "nbformat": 4,
 "nbformat_minor": 2
}
